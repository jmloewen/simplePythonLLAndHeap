{
 "cells": [
  {
   "cell_type": "code",
   "execution_count": 70,
   "metadata": {
    "collapsed": true
   },
   "outputs": [],
   "source": [
    "import heapq"
   ]
  },
  {
   "cell_type": "code",
   "execution_count": 71,
   "metadata": {
    "collapsed": true
   },
   "outputs": [],
   "source": [
    "class Node: \n",
    "    def __init__(this, letter=None, percentile=None, nextNode=None): \n",
    "        this.letter = letter\n",
    "        this.percentile = percentile\n",
    "        this.nn = None\n",
    "    def __str__(self): \n",
    "        return str(letter + \": \" + percentile)\n",
    "    \n",
    "    def __lt__(this, other):\n",
    "        return this.percentile < other.percentile\n",
    "    \n",
    "    def __gt__(this, other):\n",
    "        return this.percentile > other.percentile\n",
    "    \n",
    "    def __eq__(this, other):\n",
    "        return this.percentile == other.percentile\n",
    "    \n",
    "    def setNextNode(this, nextNode):\n",
    "        this.nn = nextNode\n",
    "    \n",
    "    def setPercentile(this, perc):\n",
    "        this.percentile = perc\n",
    "    \n",
    "    def setLetter(this, l):\n",
    "        this.letter = l\n",
    "        \n",
    "    def getNextNode(this):\n",
    "        return this.nn\n",
    "    \n",
    "    def getPercentile(this):\n",
    "        return this.percentile\n",
    "    \n",
    "    def getLetter(this):\n",
    "        return this.letter\n",
    "    \n",
    "    "
   ]
  },
  {
   "cell_type": "code",
   "execution_count": 72,
   "metadata": {
    "collapsed": true
   },
   "outputs": [],
   "source": [
    "temp = Node(\"a\", 65)"
   ]
  },
  {
   "cell_type": "code",
   "execution_count": 73,
   "metadata": {},
   "outputs": [],
   "source": [
    "temp.setLetter(\"A\")"
   ]
  },
  {
   "cell_type": "code",
   "execution_count": 74,
   "metadata": {},
   "outputs": [
    {
     "data": {
      "text/plain": [
       "'A'"
      ]
     },
     "execution_count": 74,
     "metadata": {},
     "output_type": "execute_result"
    }
   ],
   "source": [
    "temp.getLetter()"
   ]
  },
  {
   "cell_type": "markdown",
   "metadata": {},
   "source": [
    "temp.getPercentile"
   ]
  },
  {
   "cell_type": "code",
   "execution_count": 75,
   "metadata": {},
   "outputs": [
    {
     "data": {
      "text/plain": [
       "65"
      ]
     },
     "execution_count": 75,
     "metadata": {},
     "output_type": "execute_result"
    }
   ],
   "source": [
    "temp.getPercentile()"
   ]
  },
  {
   "cell_type": "code",
   "execution_count": 76,
   "metadata": {
    "collapsed": true
   },
   "outputs": [],
   "source": [
    "temp2 = Node(\"b\", 63)\n",
    "temp3 = Node(\"c\", 12)\n",
    "temp4 = Node(\"z\", 45)\n",
    "temp5 = Node(\"e\", 67)\n",
    "temp6 = Node(\"f\", 69)\n",
    "temp7 = Node(\"g\", 54)\n",
    "temp8 = Node(\"h\", 98)\n",
    "temp9 = Node(\"j\", 32)"
   ]
  },
  {
   "cell_type": "code",
   "execution_count": 77,
   "metadata": {},
   "outputs": [],
   "source": [
    "temp.setNextNode(temp2)\n",
    "temp2.setNextNode(temp3)\n",
    "temp3.setNextNode(temp4)\n",
    "temp4.setNextNode(temp5)\n",
    "temp5.setNextNode(temp6)\n",
    "temp6.setNextNode(temp7)\n",
    "temp7.setNextNode(temp8)\n",
    "temp8.setNextNode(temp9)\n"
   ]
  },
  {
   "cell_type": "code",
   "execution_count": 78,
   "metadata": {},
   "outputs": [
    {
     "data": {
      "text/plain": [
       "'b'"
      ]
     },
     "execution_count": 78,
     "metadata": {},
     "output_type": "execute_result"
    }
   ],
   "source": [
    "temp.getNextNode().getLetter()"
   ]
  },
  {
   "cell_type": "code",
   "execution_count": 79,
   "metadata": {
    "collapsed": true
   },
   "outputs": [],
   "source": [
    "heap = []"
   ]
  },
  {
   "cell_type": "code",
   "execution_count": 80,
   "metadata": {},
   "outputs": [],
   "source": [
    "heapq.heappush(heap, temp)\n",
    "heapq.heappush(heap, temp2)\n",
    "heapq.heappush(heap, temp3)\n",
    "heapq.heappush(heap, temp4)\n",
    "heapq.heappush(heap, temp6)\n",
    "heapq.heappush(heap, temp7)\n",
    "heapq.heappush(heap, temp5)\n",
    "heapq.heappush(heap, temp9)\n",
    "heapq.heappush(heap, temp8)"
   ]
  },
  {
   "cell_type": "code",
   "execution_count": 87,
   "metadata": {},
   "outputs": [
    {
     "name": "stdout",
     "output_type": "stream",
     "text": [
      "12\n",
      "32\n",
      "54\n",
      "45\n",
      "69\n",
      "63\n",
      "67\n",
      "65\n",
      "98\n"
     ]
    }
   ],
   "source": [
    "for i in heap:\n",
    "    print(i.percentile)"
   ]
  },
  {
   "cell_type": "code",
   "execution_count": null,
   "metadata": {
    "collapsed": true
   },
   "outputs": [],
   "source": []
  }
 ],
 "metadata": {
  "kernelspec": {
   "display_name": "Python 3",
   "language": "python",
   "name": "python3"
  },
  "language_info": {
   "codemirror_mode": {
    "name": "ipython",
    "version": 3
   },
   "file_extension": ".py",
   "mimetype": "text/x-python",
   "name": "python",
   "nbconvert_exporter": "python",
   "pygments_lexer": "ipython3",
   "version": "3.6.1"
  }
 },
 "nbformat": 4,
 "nbformat_minor": 2
}
