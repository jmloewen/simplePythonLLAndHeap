{
 "cells": [
  {
   "cell_type": "code",
   "execution_count": 159,
   "metadata": {
    "collapsed": true
   },
   "outputs": [],
   "source": [
    "import heapq\n",
    "import string\n",
    "import random\n",
    "from random import randint"
   ]
  },
  {
   "cell_type": "code",
   "execution_count": 171,
   "metadata": {
    "collapsed": true
   },
   "outputs": [],
   "source": [
    "class Node: \n",
    "    def __init__(this, letter=None, percentile=None, nextNode=None): \n",
    "        this.letter = letter\n",
    "        this.percentile = percentile\n",
    "        this.nn = None\n",
    "    def __str__(this): \n",
    "        return this.letter + \": \" + str(this.percentile)\n",
    "    \n",
    "    def __lt__(this, other):\n",
    "        return this.percentile < other.percentile\n",
    "    \n",
    "    def __gt__(this, other):\n",
    "        return this.percentile > other.percentile\n",
    "    \n",
    "    def __eq__(this, other):\n",
    "        return this.percentile == other.percentile\n",
    "    \n",
    "    def setNextNode(this, nextNode):\n",
    "        this.nn = nextNode\n",
    "    \n",
    "    def setPercentile(this, perc):\n",
    "        this.percentile = perc\n",
    "    \n",
    "    def setLetter(this, l):\n",
    "        this.letter = l\n",
    "        \n",
    "    def getNextNode(this):\n",
    "        return this.nn\n",
    "    \n",
    "    def getPercentile(this):\n",
    "        return this.percentile\n",
    "    \n",
    "    def getLetter(this):\n",
    "        return this.letter\n",
    "    \n",
    "    "
   ]
  },
  {
   "cell_type": "markdown",
   "metadata": {},
   "source": []
  },
  {
   "cell_type": "code",
   "execution_count": 172,
   "metadata": {},
   "outputs": [],
   "source": [
    "#Testing implementation\n",
    "nodes = []"
   ]
  },
  {
   "cell_type": "code",
   "execution_count": 173,
   "metadata": {},
   "outputs": [],
   "source": [
    "for i in range(10):\n",
    "    nodes.append(Node(random.choice(string.ascii_letters), randint(0, 100)))"
   ]
  },
  {
   "cell_type": "code",
   "execution_count": 174,
   "metadata": {},
   "outputs": [],
   "source": [
    "for i in range(len(nodes) - 1):\n",
    "    nodes[i].setNextNode(nodes[i+1])"
   ]
  },
  {
   "cell_type": "code",
   "execution_count": 175,
   "metadata": {},
   "outputs": [],
   "source": [
    "heap = []"
   ]
  },
  {
   "cell_type": "code",
   "execution_count": null,
   "metadata": {},
   "outputs": [],
   "source": []
  },
  {
   "cell_type": "code",
   "execution_count": 176,
   "metadata": {},
   "outputs": [
    {
     "name": "stdout",
     "output_type": "stream",
     "text": [
      "d: 94\n",
      "l: 48\n",
      "Q: 60\n",
      "O: 91\n",
      "b: 95\n",
      "X: 22\n",
      "n: 26\n",
      "U: 31\n",
      "r: 50\n",
      "y: 48\n"
     ]
    }
   ],
   "source": [
    "for i in range(len(nodes)):\n",
    "    heapq.heappush(heap, nodes[i])\n",
    "    print(str(nodes[i]))"
   ]
  },
  {
   "cell_type": "code",
   "execution_count": null,
   "metadata": {},
   "outputs": [],
   "source": []
  },
  {
   "cell_type": "code",
   "execution_count": null,
   "metadata": {},
   "outputs": [],
   "source": []
  },
  {
   "cell_type": "code",
   "execution_count": null,
   "metadata": {
    "collapsed": true
   },
   "outputs": [],
   "source": []
  }
 ],
 "metadata": {
  "kernelspec": {
   "display_name": "Python 3",
   "language": "python",
   "name": "python3"
  },
  "language_info": {
   "codemirror_mode": {
    "name": "ipython",
    "version": 3
   },
   "file_extension": ".py",
   "mimetype": "text/x-python",
   "name": "python",
   "nbconvert_exporter": "python",
   "pygments_lexer": "ipython3",
   "version": "3.6.1"
  }
 },
 "nbformat": 4,
 "nbformat_minor": 2
}
